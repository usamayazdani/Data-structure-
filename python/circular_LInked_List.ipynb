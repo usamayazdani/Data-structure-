{
 "cells": [
  {
   "cell_type": "code",
   "execution_count": 1,
   "metadata": {},
   "outputs": [],
   "source": [
    "#\n",
    "class Node:\n",
    "    def __init__(self,data=None):\n",
    "    \n",
    "        self.val=data\n",
    "        self.next=None\n",
    "    \n",
    "class Ring:\n",
    "    def __init__(self):\n",
    "        self.head=None \n",
    "    "
   ]
  },
  {
   "cell_type": "code",
   "execution_count": null,
   "metadata": {},
   "outputs": [],
   "source": []
  },
  {
   "cell_type": "code",
   "execution_count": null,
   "metadata": {},
   "outputs": [],
   "source": [
    "#stringrepresentation\n",
    "def __str__(self):\n",
    "    ret_str='['\n",
    "    temp=self.head\n",
    "    #so now this will traverse the whole array\n",
    "    while temp is not None:\n",
    "        ret_str+=str(temp.val)+','\n",
    "        temp=temp.next\n",
    "        if temp==self.head:  #for ring check it reach head or not\n",
    "            break\n",
    "    ret_str=ret_str.rstrip(', ')\n",
    "    ret_str+=']'\n",
    "    return ret_str\n",
    "Ring.__str__=__str__\n",
    "    "
   ]
  },
  {
   "cell_type": "code",
   "execution_count": 1,
   "metadata": {},
   "outputs": [],
   "source": [
    "#for getting only last value \n",
    "def _get_last(self):\n",
    "    #no node no last\n",
    "    if self.head is None:\n",
    "        return None\n",
    "    #if just one node its last too\n",
    "    \n",
    "    if self.head.next== self.head:\n",
    "        return self.head\n",
    "    #al last multiple node\n",
    "    temp=self.head.next\n",
    "    while temp.next != self.head:\n",
    "        temp=temp.next\n",
    "    return temp\n",
    "Ring__get_last=_get_last"
   ]
  },
  {
   "cell_type": "code",
   "execution_count": null,
   "metadata": {},
   "outputs": [],
   "source": [
    "    temp =self.head\n",
    "    counter=0\n",
    "    while temp is not None and counter <index:\n",
    "        prev=temp\n",
    "        temp=temp.next\n",
    "        counter+=1\n",
    "    prev.next=new_node\n",
    "    new_node.next=temp\n",
    "Ring.insert=insert"
   ]
  },
  {
   "cell_type": "code",
   "execution_count": null,
   "metadata": {},
   "outputs": [],
   "source": []
  },
  {
   "cell_type": "code",
   "execution_count": null,
   "metadata": {},
   "outputs": [],
   "source": []
  },
  {
   "cell_type": "code",
   "execution_count": null,
   "metadata": {},
   "outputs": [],
   "source": []
  },
  {
   "cell_type": "code",
   "execution_count": null,
   "metadata": {},
   "outputs": [],
   "source": []
  }
 ],
 "metadata": {
  "interpreter": {
   "hash": "df6492b0f6bffb630cf161d7da7ed5f90d63ee25233ca98c2993012e3b1a418b"
  },
  "kernelspec": {
   "display_name": "Python 3.8.5 64-bit ('base': conda)",
   "name": "python3"
  },
  "language_info": {
   "codemirror_mode": {
    "name": "ipython",
    "version": 3
   },
   "file_extension": ".py",
   "mimetype": "text/x-python",
   "name": "python",
   "nbconvert_exporter": "python",
   "pygments_lexer": "ipython3",
   "version": "3.8.5"
  }
 },
 "nbformat": 4,
 "nbformat_minor": 4
}
