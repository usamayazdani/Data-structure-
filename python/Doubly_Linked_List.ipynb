{
 "cells": [
  {
   "cell_type": "code",
   "execution_count": 18,
   "metadata": {},
   "outputs": [],
   "source": [
    "class Node:\n",
    "    def __init__(self,data=None):\n",
    "        self.val=data\n",
    "        self.next=None\n",
    "        self.prev=None\n",
    "class doubly:\n",
    "    def __init__(self):\n",
    "        self.head=None\n",
    "        \n",
    "    "
   ]
  },
  {
   "cell_type": "code",
   "execution_count": null,
   "metadata": {},
   "outputs": [],
   "source": []
  },
  {
   "cell_type": "code",
   "execution_count": 19,
   "metadata": {},
   "outputs": [],
   "source": [
    "def push(self,val):\n",
    "    new_node=Node(val)\n",
    "    #no node currently\n",
    "    if self.head is None:\n",
    "        self.head=new_node\n",
    "        return\n",
    "    #otherwise reach then end and then insert\n",
    "    last=self.head\n",
    "    while last.next is not None:\n",
    "        last=last.next\n",
    "        \n",
    "    last.next=new_node\n",
    "    new_node.prev=last\n",
    "doubly.push=push "
   ]
  },
  {
   "cell_type": "code",
   "execution_count": 29,
   "metadata": {},
   "outputs": [],
   "source": [
    "def __str__(self):\n",
    "    ret_str='['\n",
    "    temp=self.head\n",
    "    #so now this will traverse the whole array\n",
    "    while temp is not None:\n",
    "        #to print the id\n",
    "        print(hex(id(temp.prev)),hex(id(temp)),hex(id(temp.next)))\n",
    "        ret_str+=str(temp.val)+','\n",
    "        temp=temp.next\n",
    "    ret_str=ret_str.rstrip(', ')\n",
    "    ret_str+=']'\n",
    "    return ret_str\n",
    "doubly.__str__=__str__"
   ]
  },
  {
   "cell_type": "code",
   "execution_count": null,
   "metadata": {},
   "outputs": [],
   "source": []
  },
  {
   "cell_type": "code",
   "execution_count": 30,
   "metadata": {},
   "outputs": [],
   "source": [
    "def pop(self):\n",
    "    if self.head is None:\n",
    "        raise Exception(\"cannot pop .no value\")\n",
    "    #case when there is only one node \n",
    "    if self.head.next is None:\n",
    "        print(\"Case 1\")\n",
    "        val=self.head.val\n",
    "        self.head=None  #automatic garbage \n",
    "        return val\n",
    "    #when there is two or more nodes\n",
    "    #reach the previous to last nodes\n",
    "    print('case 2')\n",
    "    temp=self.head\n",
    "    while temp.next is not None:\n",
    "        prev=temp\n",
    "        temp=temp.next\n",
    "    val =temp.val\n",
    "    prev.next=None\n",
    "    return val\n",
    "doubly.pop=pop"
   ]
  },
  {
   "cell_type": "code",
   "execution_count": null,
   "metadata": {},
   "outputs": [],
   "source": []
  },
  {
   "cell_type": "code",
   "execution_count": 31,
   "metadata": {},
   "outputs": [],
   "source": [
    "def insert(self,index,val):\n",
    "    new_node=Node(val)\n",
    "    #insertion at index zero\n",
    "    if index==0:\n",
    "        new_node.next=self.head\n",
    "        if self.head is not None:\n",
    "            self.head.prev=new_node\n",
    "        self.head=new_node\n",
    "        return \n",
    "    #for other index\n",
    "    temp=self.head\n",
    "    counter=0\n",
    "    while temp is not None and counter<index:\n",
    "        prev=temp\n",
    "        temp=temp.next\n",
    "        counter+=1\n",
    "        #print (counter)\n",
    "    prev.next=new_node\n",
    "    new_node.next=prev \n",
    "    \n",
    "    new_node.next=temp\n",
    "    #for inserting in last values\n",
    "    if temp is not None:\n",
    "        temp.prev=new_node\n",
    "doubly.insert=insert\n",
    "        "
   ]
  },
  {
   "cell_type": "code",
   "execution_count": 32,
   "metadata": {},
   "outputs": [
    {
     "name": "stdout",
     "output_type": "stream",
     "text": [
      "0x7ffe3a329880 0x27eac7f1670 0x27eac7f1c40\n",
      "0x7ffe3a329880 0x27eac7f1c40 0x27eac53b9a0\n",
      "0x27eac7f1c40 0x27eac53b9a0 0x27eac53b7c0\n",
      "0x27eac53b9a0 0x27eac53b7c0 0x7ffe3a329880\n",
      "[10,11,1,3]\n"
     ]
    }
   ],
   "source": [
    "l=doubly()\n",
    "l.push(1)\n",
    "l.push(3)\n",
    "l.insert(0,10)\n",
    "l.insert(1,11)\n",
    "print(l)"
   ]
  },
  {
   "cell_type": "code",
   "execution_count": 28,
   "metadata": {},
   "outputs": [
    {
     "data": {
      "text/plain": [
       "'0x7ffe3a329880'"
      ]
     },
     "execution_count": 28,
     "metadata": {},
     "output_type": "execute_result"
    }
   ],
   "source": [
    "#unique number like address \n",
    "hex(id(None))"
   ]
  },
  {
   "cell_type": "code",
   "execution_count": null,
   "metadata": {},
   "outputs": [],
   "source": [
    "#here we created a simple len function in which we use insert function\n",
    "#and len \\\n",
    "#advatage : bugs chances low ,\n",
    "#Len function : get length \n",
    "# this insert will push value in last index"
   ]
  },
  {
   "cell_type": "code",
   "execution_count": null,
   "metadata": {},
   "outputs": [],
   "source": []
  },
  {
   "cell_type": "code",
   "execution_count": null,
   "metadata": {},
   "outputs": [],
   "source": []
  },
  {
   "cell_type": "code",
   "execution_count": null,
   "metadata": {},
   "outputs": [],
   "source": []
  },
  {
   "cell_type": "code",
   "execution_count": null,
   "metadata": {},
   "outputs": [],
   "source": []
  },
  {
   "cell_type": "code",
   "execution_count": null,
   "metadata": {},
   "outputs": [],
   "source": []
  },
  {
   "cell_type": "code",
   "execution_count": null,
   "metadata": {},
   "outputs": [],
   "source": []
  },
  {
   "cell_type": "code",
   "execution_count": null,
   "metadata": {},
   "outputs": [],
   "source": []
  },
  {
   "cell_type": "code",
   "execution_count": null,
   "metadata": {},
   "outputs": [],
   "source": []
  }
 ],
 "metadata": {
  "kernelspec": {
   "display_name": "Python 3",
   "language": "python",
   "name": "python3"
  },
  "language_info": {
   "codemirror_mode": {
    "name": "ipython",
    "version": 3
   },
   "file_extension": ".py",
   "mimetype": "text/x-python",
   "name": "python",
   "nbconvert_exporter": "python",
   "pygments_lexer": "ipython3",
   "version": "3.8.5"
  }
 },
 "nbformat": 4,
 "nbformat_minor": 4
}
