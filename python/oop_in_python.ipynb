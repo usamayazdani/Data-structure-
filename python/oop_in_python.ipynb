{
 "cells": [
  {
   "cell_type": "code",
   "execution_count": null,
   "metadata": {},
   "outputs": [],
   "source": [
    "## jupyter notebook --notebook-dir=E:/\n",
    "\n"
   ]
  },
  {
   "cell_type": "code",
   "execution_count": 12,
   "metadata": {},
   "outputs": [
    {
     "data": {
      "text/plain": [
       "2"
      ]
     },
     "execution_count": 12,
     "metadata": {},
     "output_type": "execute_result"
    }
   ],
   "source": [
    "2%16"
   ]
  },
  {
   "cell_type": "code",
   "execution_count": 3,
   "metadata": {},
   "outputs": [
    {
     "data": {
      "text/plain": [
       "9"
      ]
     },
     "execution_count": 3,
     "metadata": {},
     "output_type": "execute_result"
    }
   ],
   "source": [
    "12345%16\n"
   ]
  },
  {
   "cell_type": "code",
   "execution_count": 30,
   "metadata": {},
   "outputs": [],
   "source": [
    "class python1:\n",
    "    #constrcutor\n",
    "    def __init__(self,x=0,y=0):\n",
    "    \n",
    "        self.x=x\n",
    "        self.y=y\n",
    "        \n",
    "    #auto calling a func which return string instead of address \n",
    "    #commint and run this code and try\n",
    "    #self --> it same like this in c++\n",
    "    #always self must be written in parameter because compiler wants\n",
    "    #no pointer in python but it has but we dont call them we call them objects\n",
    "    def __str__(self):\n",
    "        #ambuiguity .. why we self .x beacuse there is explicit and implicti value\n",
    "        #we have choice in c++ use \"this\" but in this we must write \n",
    "        return \"[\"+str(self.x)+\",\"+str(self.y)+\"]\"\n",
    "    #the function which we want wright but we cannot write so we gave \"pass\" to that function\n",
    "    #there is no overrwriting in python <--IMP\n",
    "   # def __init__():\n",
    "    #    pass \n",
    "    "
   ]
  },
  {
   "cell_type": "code",
   "execution_count": 25,
   "metadata": {},
   "outputs": [
    {
     "name": "stdout",
     "output_type": "stream",
     "text": [
      "0\n",
      "2\n"
     ]
    }
   ],
   "source": [
    "p1=python1() #refernce variable\n",
    "print(p1.x)\n",
    "p2=python1(2,3)\n",
    "print(p2.x)"
   ]
  },
  {
   "cell_type": "code",
   "execution_count": 26,
   "metadata": {},
   "outputs": [
    {
     "name": "stdout",
     "output_type": "stream",
     "text": [
      "[2,3]\n"
     ]
    }
   ],
   "source": [
    "print(p2) #it gave str but when you commint str codeit gave you addrss"
   ]
  },
  {
   "cell_type": "code",
   "execution_count": 38,
   "metadata": {},
   "outputs": [],
   "source": [
    "class Shape:\n",
    "    def __init__(self,python1):\n",
    "        self.python1=python1\n",
    "    def __str__(self):\n",
    "        ret = \"\"\n",
    "        for i in self.python1:\n",
    "            ret +=str(i)+ \"-\"\n",
    "        return ret"
   ]
  },
  {
   "cell_type": "code",
   "execution_count": 39,
   "metadata": {},
   "outputs": [],
   "source": [
    "p1=python1(5,5)\n",
    "p2=python1(10,15)\n",
    "p3=python1(20,25)\n",
    "p=[p1,p2,p3]\n",
    "sh=Shape(p)"
   ]
  },
  {
   "cell_type": "code",
   "execution_count": 40,
   "metadata": {},
   "outputs": [
    {
     "name": "stdout",
     "output_type": "stream",
     "text": [
      "[5,5]-[10,15]-[20,25]-\n"
     ]
    }
   ],
   "source": [
    "print(sh)"
   ]
  },
  {
   "cell_type": "code",
   "execution_count": 44,
   "metadata": {},
   "outputs": [],
   "source": [
    "#we can add more function in class outside the class\n",
    "def print_points(self):\n",
    "    for i in self.python1:\n",
    "        print(i)\n",
    "Shape.print_points=print_points\n"
   ]
  },
  {
   "cell_type": "code",
   "execution_count": 46,
   "metadata": {},
   "outputs": [
    {
     "name": "stdout",
     "output_type": "stream",
     "text": [
      "[5,5]\n",
      "[10,15]\n",
      "[20,25]\n"
     ]
    }
   ],
   "source": [
    "sh.print_points()"
   ]
  },
  {
   "cell_type": "code",
   "execution_count": 47,
   "metadata": {},
   "outputs": [],
   "source": [
    "#inheritance\n",
    "class triangle (Shape):   #inherita from shape\n",
    "    pass #its not anything in this class"
   ]
  },
  {
   "cell_type": "code",
   "execution_count": 50,
   "metadata": {},
   "outputs": [],
   "source": [
    "t=triangle(p)"
   ]
  },
  {
   "cell_type": "code",
   "execution_count": 51,
   "metadata": {},
   "outputs": [
    {
     "name": "stdout",
     "output_type": "stream",
     "text": [
      "[5,5]\n",
      "[10,15]\n",
      "[20,25]\n"
     ]
    }
   ],
   "source": [
    "t.print_points()"
   ]
  },
  {
   "cell_type": "code",
   "execution_count": null,
   "metadata": {},
   "outputs": [],
   "source": [
    "#very rare case when we call super class function in derived class\n",
    "def square(triangle)\n",
    "    def __init__(self,length):\n",
    "        \n",
    "        super().__init__(length,length)\n",
    "        #wht here we dont use self beacuse here we are calling not declaration \n",
    "    def __str__(self):\n",
    "        return \"square\"+super().__str__()"
   ]
  },
  {
   "cell_type": "code",
   "execution_count": null,
   "metadata": {},
   "outputs": [],
   "source": [
    "#plotting in python\n",
    "import matplotlib.py as plt #as gave us short name"
   ]
  },
  {
   "cell_type": "code",
   "execution_count": null,
   "metadata": {},
   "outputs": [],
   "source": [
    "%matplotlib inline   # only this command for only jupyter \n",
    "#syntax keywork  \n",
    "plt.figure()\n",
    "plt.xlabel(\"x-axis\")\n",
    "plt.ylabel(\"y\")\n",
    "plt.plot()\n",
    "plt.plot()\n",
    "plt.show()\n",
    "#http// realpython.com//python-matplotlib-guide/   watch this tutorial"
   ]
  },
  {
   "cell_type": "code",
   "execution_count": null,
   "metadata": {},
   "outputs": [],
   "source": []
  },
  {
   "cell_type": "code",
   "execution_count": null,
   "metadata": {},
   "outputs": [],
   "source": []
  },
  {
   "cell_type": "code",
   "execution_count": null,
   "metadata": {},
   "outputs": [],
   "source": []
  },
  {
   "cell_type": "code",
   "execution_count": null,
   "metadata": {},
   "outputs": [],
   "source": []
  }
 ],
 "metadata": {
  "kernelspec": {
   "display_name": "Python 3",
   "language": "python",
   "name": "python3"
  },
  "language_info": {
   "codemirror_mode": {
    "name": "ipython",
    "version": 3
   },
   "file_extension": ".py",
   "mimetype": "text/x-python",
   "name": "python",
   "nbconvert_exporter": "python",
   "pygments_lexer": "ipython3",
   "version": "3.8.5"
  }
 },
 "nbformat": 4,
 "nbformat_minor": 4
}
