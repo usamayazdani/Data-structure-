{
 "cells": [
  {
   "cell_type": "code",
   "execution_count": 1,
   "metadata": {},
   "outputs": [],
   "source": [
    "class Node:\n",
    "    def __init__(self,data=None):\n",
    "    \n",
    "        self.val=data\n",
    "        self.next=None\n",
    "    \n",
    "class linkedlist:\n",
    "    def __init__(self):\n",
    "        self.head=None \n",
    "    "
   ]
  },
  {
   "cell_type": "markdown",
   "metadata": {},
   "source": [
    "# Push back \n",
    "two cases:\n",
    "1:when there is no nodes\n",
    "2:when there is already one or more nodes\n",
    "\n",
    " "
   ]
  },
  {
   "cell_type": "code",
   "execution_count": 3,
   "metadata": {},
   "outputs": [],
   "source": [
    "def push(self,val):\n",
    "    new_node=Node(val)\n",
    "    #no node currently\n",
    "    if self.head is None:\n",
    "        self.head=new_node\n",
    "        return\n",
    "    #otherwise reach then end and then insert\n",
    "    last=self.head\n",
    "    while last.next is not None:\n",
    "        last=last.next\n",
    "        \n",
    "    last.next=new_node\n",
    "linkedlist.push=push"
   ]
  },
  {
   "cell_type": "code",
   "execution_count": 4,
   "metadata": {},
   "outputs": [],
   "source": [
    "def __str__(self):\n",
    "    ret_str='['\n",
    "    temp=self.head\n",
    "    #so now this will traverse the whole array\n",
    "    while temp is not None:\n",
    "        ret_str+=str(temp.val)+','\n",
    "        temp=temp.next\n",
    "    ret_str=ret_str.rstrip(', ')\n",
    "    ret_str+=']'\n",
    "    return ret_str\n",
    "linkedlist.__str__=__str__\n",
    "    "
   ]
  },
  {
   "cell_type": "code",
   "execution_count": 5,
   "metadata": {},
   "outputs": [
    {
     "name": "stdout",
     "output_type": "stream",
     "text": [
      "[2,4,6]\n"
     ]
    }
   ],
   "source": [
    "l=linkedlist()\n",
    "l.push(2)\n",
    "l.push(4)\n",
    "l.push(6)\n",
    "print(l)"
   ]
  },
  {
   "cell_type": "markdown",
   "metadata": {},
   "source": [
    "# pop function\n",
    "its has also two cases\n",
    "1: when there is only one nodes.\n",
    "2:when there are two or more nodes --- in this case we keeps two pointers:\n",
    "        prev and temps .move both untill temp is the last.then set next of prev to none"
   ]
  },
  {
   "cell_type": "code",
   "execution_count": 9,
   "metadata": {},
   "outputs": [],
   "source": [
    "def pop(self):\n",
    "    if self.head is None:\n",
    "        raise Exception(\"cannot pop .no value\")\n",
    "    #case when there is only one node \n",
    "    if self.head.next is None:\n",
    "        print(\"Case 1\")\n",
    "        val=self.head.val\n",
    "        self.head=None  #automatic garbage \n",
    "        return val\n",
    "    #when there is two or more nodes\n",
    "    #reach the previous to last nodes\n",
    "    print('case 2')\n",
    "    temp=self.head\n",
    "    while temp.next is not None:\n",
    "        prev=temp\n",
    "        temp=temp.next\n",
    "    val =temp.val\n",
    "    prev.next=None\n",
    "    return val\n",
    "linkedlist.pop=pop\n",
    "        "
   ]
  },
  {
   "cell_type": "code",
   "execution_count": 10,
   "metadata": {},
   "outputs": [
    {
     "name": "stdout",
     "output_type": "stream",
     "text": [
      "case 2\n",
      "6\n"
     ]
    }
   ],
   "source": [
    "print(l.pop())"
   ]
  },
  {
   "cell_type": "code",
   "execution_count": 11,
   "metadata": {},
   "outputs": [
    {
     "name": "stdout",
     "output_type": "stream",
     "text": [
      "[2,4]\n"
     ]
    }
   ],
   "source": [
    "print(l)"
   ]
  },
  {
   "cell_type": "markdown",
   "metadata": {},
   "source": [
    "# Insertion \n"
   ]
  },
  {
   "cell_type": "code",
   "execution_count": 12,
   "metadata": {},
   "outputs": [],
   "source": [
    "def insert(self,index,val):\n",
    "    new_node=Node(val)\n",
    "    \n",
    "    #insertion at index 0\n",
    "    \n",
    "    \n",
    "    new_node.next=self.head\n",
    "    self.head=new_node\n",
    "    return\n",
    "    #for other indexces\n",
    "    \n",
    "    temp=self.head\n",
    "    counter =0;\n",
    "    while temp is not None and counter<index:\n",
    "        prev=temp\n",
    "        temp=temp.next\n",
    "        counter +=1\n",
    "        prev .next =new_node\n",
    "        new_node.next=temp\n",
    "linkedlist.insert =insert"
   ]
  },
  {
   "cell_type": "code",
   "execution_count": 13,
   "metadata": {},
   "outputs": [
    {
     "name": "stdout",
     "output_type": "stream",
     "text": [
      "[11,2,4]\n"
     ]
    }
   ],
   "source": [
    "l.insert(1,11)\n",
    "print(l)"
   ]
  },
  {
   "cell_type": "markdown",
   "metadata": {},
   "source": [
    "#remove "
   ]
  },
  {
   "cell_type": "code",
   "execution_count": 14,
   "metadata": {},
   "outputs": [],
   "source": [
    "def remove(self,val):\n",
    "    temp=self.head\n",
    "    #first check is aray have or not\n",
    "    if temp is not None:\n",
    "        #check first node\n",
    "        if temp.val==val:\n",
    "            self.head=temp.next\n",
    "            temp=None\n",
    "            return\n",
    "    #lets move next step\n",
    "    while temp is not None:\n",
    "        if temp.val==val:\n",
    "            break\n",
    "        prev=temp\n",
    "        temp=temp.next\n",
    "    #also check we cannt find\n",
    "    if temp is None:\n",
    "        return\n",
    "    prev.next=temp.next\n",
    "linkedlist.remove=remove"
   ]
  },
  {
   "cell_type": "code",
   "execution_count": 15,
   "metadata": {},
   "outputs": [
    {
     "name": "stdout",
     "output_type": "stream",
     "text": [
      "[11,4]\n"
     ]
    }
   ],
   "source": [
    "l.remove(2)\n",
    "print(l)"
   ]
  },
  {
   "cell_type": "code",
   "execution_count": null,
   "metadata": {},
   "outputs": [],
   "source": [
    "lenght function ===iterate on array get length\n",
    "get(index) ===take index"
   ]
  },
  {
   "cell_type": "code",
   "execution_count": null,
   "metadata": {},
   "outputs": [],
   "source": []
  },
  {
   "cell_type": "code",
   "execution_count": null,
   "metadata": {},
   "outputs": [],
   "source": []
  },
  {
   "cell_type": "code",
   "execution_count": null,
   "metadata": {},
   "outputs": [],
   "source": []
  }
 ],
 "metadata": {
  "interpreter": {
   "hash": "df6492b0f6bffb630cf161d7da7ed5f90d63ee25233ca98c2993012e3b1a418b"
  },
  "kernelspec": {
   "display_name": "Python 3",
   "language": "python",
   "name": "python3"
  },
  "language_info": {
   "codemirror_mode": {
    "name": "ipython",
    "version": 3
   },
   "file_extension": ".py",
   "mimetype": "text/x-python",
   "name": "python",
   "nbconvert_exporter": "python",
   "pygments_lexer": "ipython3",
   "version": "3.8.5"
  }
 },
 "nbformat": 4,
 "nbformat_minor": 4
}
